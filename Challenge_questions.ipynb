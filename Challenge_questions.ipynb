{
 "cells": [
  {
   "cell_type": "markdown",
   "metadata": {},
   "source": [
    "# Task 1: List vs. NumPy Array"
   ]
  },
  {
   "cell_type": "markdown",
   "metadata": {},
   "source": [
    "#### Implementation: Find length of my_list"
   ]
  },
  {
   "cell_type": "code",
   "execution_count": 1,
   "metadata": {},
   "outputs": [
    {
     "name": "stdout",
     "output_type": "stream",
     "text": [
      "20\n"
     ]
    }
   ],
   "source": [
    "my_list = [62, 53, 69, 84, 83, 80, 98, 74, 70, 92, 68, 71, 54, 87, 85, 88, 63, 61, 66, 99]\n",
    "\n",
    "# TODO: Get length of a list\n",
    "\n",
    "def list_length(input_list):\n",
    "    return len(input_list)\n",
    "    return None\n",
    "\n",
    "# Printing the length of the list\n",
    "print(list_length(my_list))"
   ]
  },
  {
   "cell_type": "markdown",
   "metadata": {},
   "source": [
    "#### Implemention: Find min and max of list"
   ]
  },
  {
   "cell_type": "code",
   "execution_count": 2,
   "metadata": {},
   "outputs": [
    {
     "name": "stdout",
     "output_type": "stream",
     "text": [
      "Minimum number  53\n",
      "Maximum number: 99\n"
     ]
    }
   ],
   "source": [
    "import random\n",
    "\n",
    "my_list = [62, 53, 69, 84, 83, 80, 98, 74, 70, 92, 68, 71, 54, 87, 85, 88, 63, 61, 66, 99]\n",
    "\n",
    "#TODO: Find min and max of a list\n",
    "def list_max_min(input_list): \n",
    "    \n",
    "    minNumber = min(input_list)\n",
    "    maxNumber = max(input_list)\n",
    "    return [minNumber,maxNumber]\n",
    "\n",
    "# Printing min and max of random numbers in a list\n",
    "result = list_max_min(my_list)\n",
    "print(\"Minimum number  {}\".format(result[0]))\n",
    "print(\"Maximum number: {}\".format(result[1]))"
   ]
  },
  {
   "cell_type": "markdown",
   "metadata": {},
   "source": [
    "#### Arithmetic and Statistical Operations on lists"
   ]
  },
  {
   "cell_type": "code",
   "execution_count": 3,
   "metadata": {},
   "outputs": [
    {
     "name": "stdout",
     "output_type": "stream",
     "text": [
      "[448.3636061713938, 383.2785665658689, 498.9853036423577, 607.4603696515659, 600.2286985842853, 578.5336853824437, 708.7037645934935, 535.1436589787604, 506.21697470963824, 665.3137381898102, 491.7536325750771, 513.4486457769187, 390.5102376331495, 629.1553828534074, 614.6920407188464, 636.387053920688, 455.5952772386744, 441.1319351041133, 477.29029044051606, 715.935435660774]\n",
      "544.9064149195891\n"
     ]
    }
   ],
   "source": [
    "# TODO: multiply each element of the list with the given coeff\n",
    "\n",
    "coeff = 7.231671067280546 # The constant to be multiplied to each element of the list \n",
    "\n",
    "res_list = [i * coeff for i in my_list] # List comprehension\n",
    "\n",
    "res_list = res_list\n",
    "\n",
    "# Print the result of the multiplication \n",
    "print(res_list)\n",
    "\n",
    "# TODO: take the average of the elements of the list\n",
    "mean_res_list = sum(res_list)/len(res_list)\n",
    "\n",
    "mean_res_list = mean_res_list\n",
    "\n",
    "# Showing the result of taking the average\n",
    "print(mean_res_list)"
   ]
  },
  {
   "cell_type": "markdown",
   "metadata": {},
   "source": [
    "#### Working with NumPy Arrays"
   ]
  },
  {
   "cell_type": "code",
   "execution_count": 4,
   "metadata": {},
   "outputs": [
    {
     "name": "stdout",
     "output_type": "stream",
     "text": [
      "[array([448.36360617, 383.27856657, 498.98530364, 607.46036965,\n",
      "       600.22869858, 578.53368538, 708.70376459, 535.14365898,\n",
      "       506.21697471, 665.31373819, 491.75363258, 513.44864578,\n",
      "       390.51023763, 629.15538285, 614.69204072, 636.38705392,\n",
      "       455.59527724, 441.1319351 , 477.29029044, 715.93543566]), (383.2785665658689, 715.935435660774), 544.9064149195891]\n"
     ]
    }
   ],
   "source": [
    "# First element is the result of multiplication of the array with the coefficient coeff. \n",
    "# This element is a NumPy array.\n",
    "# Second element is a list with a length of 2 elements with this format: [min_array, max_array]\n",
    "# For the third element: take the average of the elements in NumPy array stored in the first \n",
    "# element. This third element is a float number.\n",
    "\n",
    "# Import NumPy library necessary for this part \n",
    "import numpy as np\n",
    "\n",
    "my_array = np.array(my_list) # The NumPy array format of the list is obtained\n",
    "\n",
    "def math_array(input_array):\n",
    "    coeff = 7.231671067280546 # The constant to be multiplied \n",
    "    multiplication_array = my_array * coeff\n",
    "    Min_Max_array =  multiplication_array.min(),multiplication_array.max()\n",
    "    Avg_array = multiplication_array.mean()\n",
    "   \n",
    "    res = [multiplication_array, Min_Max_array, Avg_array]\n",
    "    return res \n",
    "\n",
    "# Displaying the result of calling the implemented function on my_array\n",
    "print(math_array(my_array))"
   ]
  },
  {
   "cell_type": "markdown",
   "metadata": {},
   "source": [
    "#### NumPy Arrays and files"
   ]
  },
  {
   "cell_type": "code",
   "execution_count": 5,
   "metadata": {
    "scrolled": true
   },
   "outputs": [
    {
     "data": {
      "text/plain": [
       "array([ 79., 121., 175., 186., 176., 172.,  55., 167.,  83.,  74.,  70.,\n",
       "       170., 120., 199., 185., 182.,  87., 173.,  53., 148., 169.,  68.,\n",
       "       134.,  85., 113.,  88.,  60., 112., 107., 108., 195.,  95., 122.,\n",
       "       135., 152., 130.,  91., 155., 198., 151.,  56., 161., 146., 188.,\n",
       "        66.,  93.,  73., 156., 179., 183., 171.,  77.,  89.,  61.,  99.,\n",
       "        82., 196., 136.,  92., 187., 111., 192., 147.,  65.,  64.,  59.,\n",
       "       100., 106., 123., 149., 189.,  75., 191.,  52., 139., 163.,  80.,\n",
       "       114., 166., 105., 197.,  97.,  51., 184.,  54., 177., 178.,  69.,\n",
       "        94.,  50., 142., 194., 125., 145., 164., 119.,  57., 154., 133.,\n",
       "        63.])"
      ]
     },
     "metadata": {},
     "output_type": "display_data"
    },
    {
     "name": "stdout",
     "output_type": "stream",
     "text": [
      "The number of grades are: 100\n"
     ]
    }
   ],
   "source": [
    "# Change requested by tutor\n",
    "# TODO: load \"grades.csv\" as NumPy array and display the size of the array\n",
    "# Import \"grades.csv\" file and store as NumPy array\n",
    "\n",
    "grades_np = np.genfromtxt(r\"C:\\Users\\Ivan Rojas\\Documents\\GitHub\\ds-ml-ai-challenge-ecodavid\\data\\grades.csv\")\n",
    "\n",
    "# Print the grades\n",
    "\n",
    "display (grades_np)\n",
    "\n",
    "number_of_grades = grades_np.size\n",
    "# number_of_grades = None # A variable for taking the size of the array\n",
    "\n",
    "# Display the size of the array\n",
    "print(\"The number of grades are: \" + str(number_of_grades))"
   ]
  },
  {
   "cell_type": "markdown",
   "metadata": {},
   "source": [
    "#### Boolean Indexing"
   ]
  },
  {
   "cell_type": "code",
   "execution_count": 6,
   "metadata": {},
   "outputs": [
    {
     "name": "stdout",
     "output_type": "stream",
     "text": [
      "The even grades are: [186. 176. 172.  74.  70. 170. 120. 182. 148.  68. 134.  88.  60. 112.\n",
      " 108. 122. 152. 130. 198.  56. 146. 188.  66. 156.  82. 196. 136.  92.\n",
      " 192.  64. 100. 106.  52.  80. 114. 166. 184.  54. 178.  94.  50. 142.\n",
      " 194. 164. 154.]\n",
      "The odd grades are: [ 79. 121. 175.  55. 167.  83. 199. 185.  87. 173.  53. 169.  85. 113.\n",
      " 107. 195.  95. 135.  91. 155. 151. 161.  93.  73. 179. 183. 171.  77.\n",
      "  89.  61.  99. 187. 111. 147.  65.  59. 123. 149. 189.  75. 191. 139.\n",
      " 163. 105. 197.  97.  51. 177.  69. 125. 145. 119.  57. 133.  63.]\n",
      "The number of even grades is: 45\n",
      "The number of odd grades is: 55\n"
     ]
    }
   ],
   "source": [
    "# TODO: Split the NumPy array 'grades_np' into even and odd parts\n",
    "\n",
    "even_grades = grades_np[grades_np%2==0] #Select an array with elements divisable by 2 and with\n",
    "                                        #remaining equal to cero\n",
    "odd_grades = grades_np[grades_np%2!=0] \n",
    "            \n",
    "even_grades = even_grades\n",
    "odd_grades = odd_grades\n",
    "\n",
    "even_grades_size = even_grades.size\n",
    "odd_grades_size = odd_grades.size\n",
    "\n",
    "# even_grades_size = even_grades_size\n",
    "# odd_grades_size = odd_grades_size\n",
    "\n",
    "# Display the resulted arrays from the splitting process\n",
    "print(\"The even grades are: \"+ str(even_grades))\n",
    "print(\"The odd grades are: \"+ str(odd_grades))\n",
    "\n",
    "# Display the size of the arrays\n",
    "print(\"The number of even grades is: \" + str(even_grades_size))\n",
    "print(\"The number of odd grades is: \" + str(odd_grades_size))"
   ]
  },
  {
   "cell_type": "markdown",
   "metadata": {},
   "source": [
    "#### Arithmetic Operations and Mask Indexing"
   ]
  },
  {
   "cell_type": "code",
   "execution_count": 7,
   "metadata": {},
   "outputs": [
    {
     "name": "stdout",
     "output_type": "stream",
     "text": [
      "The mean value of the even grades is: 126.13333333333334\n",
      "Indices with the values greater than the mean are: (array([ 0,  1,  2,  5,  7,  8, 10, 16, 17, 18, 20, 21, 23, 25, 26, 28, 35,\n",
      "       36, 38, 41, 42, 43, 44], dtype=int64),)\n"
     ]
    }
   ],
   "source": [
    "# TODO: Take the average of the even grades and specify the indexes with the elements larger \n",
    "# than the mean\n",
    "\n",
    "mean_even_grades = even_grades.mean()# The variable for holding the mean value of the even grades\n",
    "even_grades > mean_even_grades\n",
    "greater_than_mean_inds = np.nonzero(even_grades > mean_even_grades)\n",
    "\n",
    "# Display the taken mean\n",
    "print(\"The mean value of the even grades is: \" + str(mean_even_grades))\n",
    "\n",
    "greater_than_mean_inds = greater_than_mean_inds # A list of indexes with the values larger than the \"mean_even_grades\"\n",
    "\n",
    "# Displaying the indices\n",
    "print(\"Indices with the values greater than the mean are: \" + str(greater_than_mean_inds))"
   ]
  },
  {
   "cell_type": "markdown",
   "metadata": {},
   "source": [
    "#### Sorting, Arithmetic and Statistical Operations on NumPy arrays"
   ]
  },
  {
   "cell_type": "code",
   "execution_count": 8,
   "metadata": {},
   "outputs": [
    {
     "name": "stdout",
     "output_type": "stream",
     "text": [
      "[ 51.  53.  55.  57.  59.  61.  63.  65.  69.  73.  75.  77.  79.  83.\n",
      "  85.  87.  89.  91.  93.  95.  97.  99. 105. 107. 111. 113. 119. 121.\n",
      " 123. 125. 133. 135. 139. 145. 147. 149. 151. 155. 161. 163. 167. 169.\n",
      " 171. 173. 175. 177. 179. 183. 185. 187. 189. 191. 195. 197. 199.]\n",
      "[198. 196. 194. 192. 188. 186. 184. 182. 178. 176. 172. 170. 166. 164.\n",
      " 156. 154. 152. 148. 146. 142. 136. 134. 130. 122. 120. 114. 112. 108.\n",
      " 106. 100.  94.  92.  88.  82.  80.  74.  70.  68.  66.  64.  60.  56.\n",
      "  54.  52.  50.]\n",
      "The median of the odd grades is: 121.0\n",
      "The mean of the odd grades is: 123.54545454545455\n",
      "The difference of median and the mean of the odd grades is: 2.5454545454545467\n",
      "The standard deviation for odd grades is: 46.25691817813681\n"
     ]
    }
   ],
   "source": [
    "# Sort the array of odd_grades from the earlier section in an ascending order.\n",
    "# Do the same for the even_grade with the reverse order. \n",
    "# Try to get the median of the odd_grades\n",
    "# Then calculate the difference of the median and mean of odd_grades.\n",
    "# Calculate the Standard Deviation of odd_grades.\n",
    "\n",
    "# TODO: Sort \"odd_grades\" in an ascending and \"even_grades\" in a descending order\n",
    "\n",
    "sorted_odd_grades = np.sort(odd_grades)\n",
    "sorted_odd_grades = sorted_odd_grades \n",
    "\n",
    "reverse_sorted_even_grades = -np.sort(-even_grades)\n",
    "reverse_sorted_even_grades = reverse_sorted_even_grades\n",
    "\n",
    "# Printing the sorted arrays:\n",
    "print(sorted_odd_grades)\n",
    "print(reverse_sorted_even_grades)\n",
    "\n",
    "# Variables which hold median, mean and the absolute difference of median and mean\n",
    "median_odd_grades = np.median(odd_grades)\n",
    "mean_odd_grades = np.mean(odd_grades)\n",
    "mean_median_diff = np.abs(median_odd_grades - mean_odd_grades)\n",
    "std_odd_grades = np.std(odd_grades)\n",
    "\n",
    "# Display median, mean, difference of them\n",
    "print(\"The median of the odd grades is: \" + str(median_odd_grades))\n",
    "print(\"The mean of the odd grades is: \" + str(mean_odd_grades))\n",
    "print(\"The difference of median and the mean of the odd grades is: \" + str(mean_median_diff))\n",
    "print(\"The standard deviation for odd grades is: \" + str(std_odd_grades))"
   ]
  },
  {
   "cell_type": "markdown",
   "metadata": {},
   "source": [
    "#### Multi-Dimensional NumPy Arrays"
   ]
  },
  {
   "cell_type": "code",
   "execution_count": 9,
   "metadata": {},
   "outputs": [
    {
     "name": "stdout",
     "output_type": "stream",
     "text": [
      "2\n",
      "mean values: [129.76 128.   118.08 123.  ]\n",
      "median values: [134. 130. 106. 125.]\n",
      "std values: [47.95688063 42.7981308  47.38094132 47.81296895]\n",
      "[[185. 186. 199.]\n",
      " [188. 195. 198.]\n",
      " [191. 192. 196.]\n",
      " [184. 194. 197.]]\n"
     ]
    }
   ],
   "source": [
    "# TODO: Split the \"grades_np\" into an array with 4 rows, take the mean, median, std of each \n",
    "# row. \n",
    "# Which rows have the greatest difference between mean and median?\n",
    "\n",
    "splited_grades_np = np.reshape(grades_np,(4,-1)) # This function keeps the orginal array intact\n",
    "\n",
    "# the function defines the number of columns by setting to -1.\n",
    "                                                    \n",
    "\n",
    "means = np.mean(splited_grades_np, axis = 1)\n",
    "medians = np.median(splited_grades_np, axis = 1)\n",
    "stds = np.std(splited_grades_np, axis = 1)\n",
    "\n",
    "mean_median_diff_ind = np.argmax(abs(means - medians)) \n",
    "print(mean_median_diff_ind) # 2 is the index of the row with the largest difference between \n",
    "                            # mean and median\n",
    "\n",
    "# Variables for holding the mean, median, and std\n",
    "means = means\n",
    "medians = medians\n",
    "stds = stds\n",
    "mean_median_diff_ind = mean_median_diff_ind \n",
    "                                           \n",
    "\n",
    "# Display the taken values\n",
    "print(\"mean values: \" + str(means))\n",
    "print(\"median values: \" + str(medians))\n",
    "print(\"std values: \" + str(stds))\n",
    "\n",
    "# The NumPy arrays for holding the new splited array with the shape of (4,:), \n",
    "# the sorted grades for each row, and the top 3 grades for each row\n",
    "\n",
    "sorted_splited_grades = np.sort(splited_grades_np)\n",
    "best_grades = sorted_splited_grades[ :,-3:] # This range contains all rows and selected\n",
    "                                            # the last 3 columns of the sorted array\n",
    "\n",
    "# Display the Best score\n",
    "print(best_grades)"
   ]
  },
  {
   "cell_type": "markdown",
   "metadata": {},
   "source": [
    "# Task 2. Data Visualization"
   ]
  },
  {
   "cell_type": "code",
   "execution_count": 10,
   "metadata": {},
   "outputs": [],
   "source": [
    "# Visualization\n",
    "import matplotlib.pyplot as plt"
   ]
  },
  {
   "cell_type": "markdown",
   "metadata": {},
   "source": [
    "#### Bar Plot"
   ]
  },
  {
   "cell_type": "code",
   "execution_count": 38,
   "metadata": {
    "scrolled": true
   },
   "outputs": [
    {
     "data": {
      "text/plain": [
       "([<matplotlib.axis.XTick at 0x5d270b8>,\n",
       "  <matplotlib.axis.XTick at 0x5d219e8>,\n",
       "  <matplotlib.axis.XTick at 0x5d21908>,\n",
       "  <matplotlib.axis.XTick at 0x891e400>,\n",
       "  <matplotlib.axis.XTick at 0x891ea20>,\n",
       "  <matplotlib.axis.XTick at 0x891ef28>,\n",
       "  <matplotlib.axis.XTick at 0x8927470>,\n",
       "  <matplotlib.axis.XTick at 0x891e6a0>,\n",
       "  <matplotlib.axis.XTick at 0x8927630>,\n",
       "  <matplotlib.axis.XTick at 0x8927e48>,\n",
       "  <matplotlib.axis.XTick at 0x892f390>,\n",
       "  <matplotlib.axis.XTick at 0x892f898>,\n",
       "  <matplotlib.axis.XTick at 0x892fda0>,\n",
       "  <matplotlib.axis.XTick at 0x89372e8>,\n",
       "  <matplotlib.axis.XTick at 0x89377f0>,\n",
       "  <matplotlib.axis.XTick at 0x8937cf8>,\n",
       "  <matplotlib.axis.XTick at 0x893e240>,\n",
       "  <matplotlib.axis.XTick at 0x89378d0>,\n",
       "  <matplotlib.axis.XTick at 0x892f358>,\n",
       "  <matplotlib.axis.XTick at 0x893e048>,\n",
       "  <matplotlib.axis.XTick at 0x893ea90>,\n",
       "  <matplotlib.axis.XTick at 0x893ee80>],\n",
       " <a list of 22 Text xticklabel objects>)"
      ]
     },
     "execution_count": 38,
     "metadata": {},
     "output_type": "execute_result"
    },
    {
     "data": {
      "image/png": "[encoded data removed]",
      "text/plain": [
       "<Figure size 432x288 with 1 Axes>"
      ]
     },
     "metadata": {
      "needs_background": "light"
     },
     "output_type": "display_data"
    }
   ],
   "source": [
    "# take a look at xticks. Using this function, you can assign each 2 students for instance a \n",
    "# tick.\n",
    "\n",
    "Student_index = np.arange(len(even_grades))+1\n",
    "plt.bar(Student_index, even_grades)\n",
    "plt.xlabel('Student Index')\n",
    "plt.ylabel('grade')\n",
    "plt.title('Student even grades')\n",
    "plt.xticks(np.arange(1 ,45, step=2))"
   ]
  },
  {
   "cell_type": "markdown",
   "metadata": {},
   "source": [
    "#### Histogram"
   ]
  },
  {
   "cell_type": "code",
   "execution_count": 20,
   "metadata": {},
   "outputs": [
    {
     "data": {
      "text/plain": [
       "Text(0.5, 1.0, 'grades histogram')"
      ]
     },
     "execution_count": 20,
     "metadata": {},
     "output_type": "execute_result"
    },
    {
     "data": {
      "image/png": "[encoded data removed]",
      "text/plain": [
       "<Figure size 432x288 with 1 Axes>"
      ]
     },
     "metadata": {
      "needs_background": "light"
     },
     "output_type": "display_data"
    }
   ],
   "source": [
    "# Generate a histogram of the even_grades with 9 bins on the horizontal axis\n",
    "\n",
    "plt.hist(even_grades, bins = 9, rwidth = 0.95, color = 'green') \n",
    "plt.xlabel('grade bins')\n",
    "plt.ylabel('num of students')\n",
    "plt.title('grades histogram')"
   ]
  },
  {
   "cell_type": "markdown",
   "metadata": {},
   "source": [
    "#### Subplots (Bonus):"
   ]
  },
  {
   "cell_type": "code",
   "execution_count": 21,
   "metadata": {},
   "outputs": [
    {
     "name": "stdout",
     "output_type": "stream",
     "text": [
      "[186. 176. 172.  74.  70. 170. 120. 182.]\n",
      "[148.  68. 134.  88.  60. 112. 108. 122.]\n"
     ]
    },
    {
     "data": {
      "image/png": "[encoded data removed]",
      "text/plain": [
       "<Figure size 432x288 with 1 Axes>"
      ]
     },
     "metadata": {
      "needs_background": "light"
     },
     "output_type": "display_data"
    }
   ],
   "source": [
    "class_0 = even_grades[0:8]\n",
    "class_1 = even_grades[8:16]\n",
    "x = np.arange(len(class_0))\n",
    "width = 0.35\n",
    "fig, ax = plt.subplots()\n",
    "c0 = ax.bar(x - width/2, class_0, width, color = 'orange', label = 'setA')\n",
    "c1 = ax.bar(x + width/2, class_1, width, color = 'blue', label = 'setB')\n",
    "ax.set_xlabel('set - class')\n",
    "ax.set_ylabel('grade')\n",
    "ax.set_title('Sample grades in two sets')\n",
    "ax.legend()\n",
    "print(class_0)\n",
    "print(class_1)"
   ]
  },
  {
   "cell_type": "markdown",
   "metadata": {},
   "source": [
    "# Task 3: Pandas Dataframe"
   ]
  },
  {
   "cell_type": "markdown",
   "metadata": {},
   "source": [
    "#### Getting Started"
   ]
  },
  {
   "cell_type": "code",
   "execution_count": 22,
   "metadata": {
    "scrolled": true
   },
   "outputs": [
    {
     "data": {
      "text/html": [
       "<div>\n",
       "<style scoped>\n",
       "    .dataframe tbody tr th:only-of-type {\n",
       "        vertical-align: middle;\n",
       "    }\n",
       "\n",
       "    .dataframe tbody tr th {\n",
       "        vertical-align: top;\n",
       "    }\n",
       "\n",
       "    .dataframe thead th {\n",
       "        text-align: right;\n",
       "    }\n",
       "</style>\n",
       "<table border=\"1\" class=\"dataframe\">\n",
       "  <thead>\n",
       "    <tr style=\"text-align: right;\">\n",
       "      <th></th>\n",
       "      <th>Email</th>\n",
       "      <th>Address</th>\n",
       "      <th>Avatar</th>\n",
       "      <th>Avg Session Length</th>\n",
       "      <th>Time on App</th>\n",
       "      <th>Time on Website</th>\n",
       "      <th>Length of Membership</th>\n",
       "      <th>Yearly Amount Spent</th>\n",
       "    </tr>\n",
       "  </thead>\n",
       "  <tbody>\n",
       "    <tr>\n",
       "      <th>0</th>\n",
       "      <td>mstephenson@fernandez.com</td>\n",
       "      <td>835 Frank TunnelWrightmouth, MI 82180-9605</td>\n",
       "      <td>Violet</td>\n",
       "      <td>34.497268</td>\n",
       "      <td>12.655651</td>\n",
       "      <td>39.577668</td>\n",
       "      <td>4.082621</td>\n",
       "      <td>587.951054</td>\n",
       "    </tr>\n",
       "    <tr>\n",
       "      <th>1</th>\n",
       "      <td>hduke@hotmail.com</td>\n",
       "      <td>4547 Archer CommonDiazchester, CA 06566-8576</td>\n",
       "      <td>DarkGreen</td>\n",
       "      <td>31.926272</td>\n",
       "      <td>11.109461</td>\n",
       "      <td>37.268959</td>\n",
       "      <td>2.664034</td>\n",
       "      <td>392.204933</td>\n",
       "    </tr>\n",
       "    <tr>\n",
       "      <th>2</th>\n",
       "      <td>pallen@yahoo.com</td>\n",
       "      <td>24645 Valerie Unions Suite 582Cobbborough, DC ...</td>\n",
       "      <td>Bisque</td>\n",
       "      <td>33.000915</td>\n",
       "      <td>11.330278</td>\n",
       "      <td>37.110597</td>\n",
       "      <td>4.104543</td>\n",
       "      <td>487.547505</td>\n",
       "    </tr>\n",
       "    <tr>\n",
       "      <th>3</th>\n",
       "      <td>riverarebecca@gmail.com</td>\n",
       "      <td>1414 David ThroughwayPort Jason, OH 22070-1220</td>\n",
       "      <td>SaddleBrown</td>\n",
       "      <td>34.305557</td>\n",
       "      <td>13.717514</td>\n",
       "      <td>36.721283</td>\n",
       "      <td>3.120179</td>\n",
       "      <td>581.852344</td>\n",
       "    </tr>\n",
       "    <tr>\n",
       "      <th>4</th>\n",
       "      <td>mstephens@davidson-herman.com</td>\n",
       "      <td>14023 Rodriguez PassagePort Jacobville, PR 372...</td>\n",
       "      <td>MediumAquaMarine</td>\n",
       "      <td>33.330673</td>\n",
       "      <td>12.795189</td>\n",
       "      <td>37.536653</td>\n",
       "      <td>4.446308</td>\n",
       "      <td>599.406092</td>\n",
       "    </tr>\n",
       "  </tbody>\n",
       "</table>\n",
       "</div>"
      ],
      "text/plain": [
       "                           Email  \\\n",
       "0      mstephenson@fernandez.com   \n",
       "1              hduke@hotmail.com   \n",
       "2               pallen@yahoo.com   \n",
       "3        riverarebecca@gmail.com   \n",
       "4  mstephens@davidson-herman.com   \n",
       "\n",
       "                                             Address            Avatar  \\\n",
       "0         835 Frank TunnelWrightmouth, MI 82180-9605            Violet   \n",
       "1       4547 Archer CommonDiazchester, CA 06566-8576         DarkGreen   \n",
       "2  24645 Valerie Unions Suite 582Cobbborough, DC ...            Bisque   \n",
       "3     1414 David ThroughwayPort Jason, OH 22070-1220       SaddleBrown   \n",
       "4  14023 Rodriguez PassagePort Jacobville, PR 372...  MediumAquaMarine   \n",
       "\n",
       "   Avg Session Length  Time on App  Time on Website  Length of Membership  \\\n",
       "0           34.497268    12.655651        39.577668              4.082621   \n",
       "1           31.926272    11.109461        37.268959              2.664034   \n",
       "2           33.000915    11.330278        37.110597              4.104543   \n",
       "3           34.305557    13.717514        36.721283              3.120179   \n",
       "4           33.330673    12.795189        37.536653              4.446308   \n",
       "\n",
       "   Yearly Amount Spent  \n",
       "0           587.951054  \n",
       "1           392.204933  \n",
       "2           487.547505  \n",
       "3           581.852344  \n",
       "4           599.406092  "
      ]
     },
     "execution_count": 22,
     "metadata": {},
     "output_type": "execute_result"
    }
   ],
   "source": [
    "import pandas as pd\n",
    "\n",
    "input_df = pd.read_csv('Ecommerce-Customers.csv')\n",
    "input_df.head(5)"
   ]
  },
  {
   "cell_type": "code",
   "execution_count": 23,
   "metadata": {},
   "outputs": [
    {
     "name": "stdout",
     "output_type": "stream",
     "text": [
      "(500, 8)\n"
     ]
    },
    {
     "data": {
      "text/plain": [
       "Email                    object\n",
       "Address                  object\n",
       "Avatar                   object\n",
       "Avg Session Length      float64\n",
       "Time on App             float64\n",
       "Time on Website         float64\n",
       "Length of Membership    float64\n",
       "Yearly Amount Spent     float64\n",
       "dtype: object"
      ]
     },
     "execution_count": 23,
     "metadata": {},
     "output_type": "execute_result"
    }
   ],
   "source": [
    "# TODO: Get the shape of the input_df\n",
    "\n",
    "# Variable for holding the shape\n",
    "input_shape = [None]\n",
    "\n",
    "input_shape = input_df.shape\n",
    "print(input_shape)\n",
    "input_df.dtypes\n",
    "# Display the name of the columns and the type of the values"
   ]
  },
  {
   "cell_type": "code",
   "execution_count": 24,
   "metadata": {},
   "outputs": [
    {
     "data": {
      "text/html": [
       "<div>\n",
       "<style scoped>\n",
       "    .dataframe tbody tr th:only-of-type {\n",
       "        vertical-align: middle;\n",
       "    }\n",
       "\n",
       "    .dataframe tbody tr th {\n",
       "        vertical-align: top;\n",
       "    }\n",
       "\n",
       "    .dataframe thead th {\n",
       "        text-align: right;\n",
       "    }\n",
       "</style>\n",
       "<table border=\"1\" class=\"dataframe\">\n",
       "  <thead>\n",
       "    <tr style=\"text-align: right;\">\n",
       "      <th></th>\n",
       "      <th>Email</th>\n",
       "      <th>Address</th>\n",
       "      <th>Avatar</th>\n",
       "      <th>Avg Session Length</th>\n",
       "      <th>Time on App</th>\n",
       "      <th>Time on Website</th>\n",
       "      <th>Length of Membership</th>\n",
       "      <th>Yearly Amount Spent</th>\n",
       "    </tr>\n",
       "  </thead>\n",
       "  <tbody>\n",
       "    <tr>\n",
       "      <th>0</th>\n",
       "      <td>mstephenson@fernandez.com</td>\n",
       "      <td>835 Frank TunnelWrightmouth, MI 82180-9605</td>\n",
       "      <td>Violet</td>\n",
       "      <td>34.497268</td>\n",
       "      <td>12.655651</td>\n",
       "      <td>39.577668</td>\n",
       "      <td>4.082621</td>\n",
       "      <td>587.951054</td>\n",
       "    </tr>\n",
       "    <tr>\n",
       "      <th>1</th>\n",
       "      <td>hduke@hotmail.com</td>\n",
       "      <td>4547 Archer CommonDiazchester, CA 06566-8576</td>\n",
       "      <td>DarkGreen</td>\n",
       "      <td>31.926272</td>\n",
       "      <td>11.109461</td>\n",
       "      <td>37.268959</td>\n",
       "      <td>2.664034</td>\n",
       "      <td>392.204933</td>\n",
       "    </tr>\n",
       "    <tr>\n",
       "      <th>2</th>\n",
       "      <td>pallen@yahoo.com</td>\n",
       "      <td>24645 Valerie Unions Suite 582Cobbborough, DC ...</td>\n",
       "      <td>Bisque</td>\n",
       "      <td>33.000915</td>\n",
       "      <td>11.330278</td>\n",
       "      <td>37.110597</td>\n",
       "      <td>4.104543</td>\n",
       "      <td>487.547505</td>\n",
       "    </tr>\n",
       "    <tr>\n",
       "      <th>3</th>\n",
       "      <td>riverarebecca@gmail.com</td>\n",
       "      <td>1414 David ThroughwayPort Jason, OH 22070-1220</td>\n",
       "      <td>SaddleBrown</td>\n",
       "      <td>34.305557</td>\n",
       "      <td>13.717514</td>\n",
       "      <td>36.721283</td>\n",
       "      <td>3.120179</td>\n",
       "      <td>581.852344</td>\n",
       "    </tr>\n",
       "    <tr>\n",
       "      <th>4</th>\n",
       "      <td>mstephens@davidson-herman.com</td>\n",
       "      <td>14023 Rodriguez PassagePort Jacobville, PR 372...</td>\n",
       "      <td>MediumAquaMarine</td>\n",
       "      <td>33.330673</td>\n",
       "      <td>12.795189</td>\n",
       "      <td>37.536653</td>\n",
       "      <td>4.446308</td>\n",
       "      <td>599.406092</td>\n",
       "    </tr>\n",
       "  </tbody>\n",
       "</table>\n",
       "</div>"
      ],
      "text/plain": [
       "                           Email  \\\n",
       "0      mstephenson@fernandez.com   \n",
       "1              hduke@hotmail.com   \n",
       "2               pallen@yahoo.com   \n",
       "3        riverarebecca@gmail.com   \n",
       "4  mstephens@davidson-herman.com   \n",
       "\n",
       "                                             Address            Avatar  \\\n",
       "0         835 Frank TunnelWrightmouth, MI 82180-9605            Violet   \n",
       "1       4547 Archer CommonDiazchester, CA 06566-8576         DarkGreen   \n",
       "2  24645 Valerie Unions Suite 582Cobbborough, DC ...            Bisque   \n",
       "3     1414 David ThroughwayPort Jason, OH 22070-1220       SaddleBrown   \n",
       "4  14023 Rodriguez PassagePort Jacobville, PR 372...  MediumAquaMarine   \n",
       "\n",
       "   Avg Session Length  Time on App  Time on Website  Length of Membership  \\\n",
       "0           34.497268    12.655651        39.577668              4.082621   \n",
       "1           31.926272    11.109461        37.268959              2.664034   \n",
       "2           33.000915    11.330278        37.110597              4.104543   \n",
       "3           34.305557    13.717514        36.721283              3.120179   \n",
       "4           33.330673    12.795189        37.536653              4.446308   \n",
       "\n",
       "   Yearly Amount Spent  \n",
       "0           587.951054  \n",
       "1           392.204933  \n",
       "2           487.547505  \n",
       "3           581.852344  \n",
       "4           599.406092  "
      ]
     },
     "execution_count": 24,
     "metadata": {},
     "output_type": "execute_result"
    }
   ],
   "source": [
    "# TODO: Display top 5 rows of input_df\n",
    "\n",
    "input_df.head(5)"
   ]
  },
  {
   "cell_type": "markdown",
   "metadata": {},
   "source": [
    "#### Average Time spent on Website and App"
   ]
  },
  {
   "cell_type": "code",
   "execution_count": 25,
   "metadata": {},
   "outputs": [
    {
     "name": "stdout",
     "output_type": "stream",
     "text": [
      "[[12.052487937166134, 0.9942156084725423], [37.06044542094859, 1.0104889067564025]]\n"
     ]
    }
   ],
   "source": [
    "# TODO: Write function the mean and std of app and website column\n",
    "\n",
    "def df_math():\n",
    "    app_mean = input_df['Time on App'].mean()\n",
    "    app_std = input_df['Time on App'].std()\n",
    "    web_mean = input_df['Time on Website'].mean()\n",
    "    web_std = input_df['Time on Website'].std()\n",
    "    res = [[app_mean, app_std], [web_mean, web_std]] # Format: [[app_mean, app_std], [web_mean, web_std]]\n",
    "    \n",
    "    return res \n",
    "\n",
    "# Display the return value of the function\n",
    "print(df_math())"
   ]
  },
  {
   "cell_type": "markdown",
   "metadata": {},
   "source": [
    "#### Finding max and the max_ID"
   ]
  },
  {
   "cell_type": "code",
   "execution_count": 26,
   "metadata": {},
   "outputs": [
    {
     "name": "stdout",
     "output_type": "stream",
     "text": [
      "Email address: kyang@diaz.org\n",
      "Max time spent on the app: 15.126994288792467\n",
      "Email address: davisrobert@hicks-smith.com\n",
      "Max time spent on the web: 40.005181638101895\n"
     ]
    }
   ],
   "source": [
    "def max_finder(input_DataFrame):\n",
    "     \n",
    "    max_time_app = input_df['Time on App'].max()\n",
    "    email_app = input_df.loc[input_df['Time on App'].idxmax(),'Email'] \n",
    "    max_time_web = input_df['Time on Website'].max()\n",
    "    email_web = input_df.loc[input_df['Time on Website'].idxmax(),'Email']\n",
    "     \n",
    "    return [email_app, max_time_app, email_web, max_time_web] # format explained above\n",
    "    \n",
    "result = max_finder(input_df)\n",
    "\n",
    "# Displaying the result\n",
    "print(\"Email address: {}\".format(result[0]))\n",
    "print(\"Max time spent on the app: {}\".format(result[1]))\n",
    "print(\"Email address: {}\".format(result[2]))\n",
    "print(\"Max time spent on the web: {}\".format(result[3]))"
   ]
  },
  {
   "cell_type": "markdown",
   "metadata": {},
   "source": [
    "#### Sort and Selection"
   ]
  },
  {
   "cell_type": "code",
   "execution_count": 27,
   "metadata": {},
   "outputs": [
    {
     "data": {
      "text/html": [
       "<div>\n",
       "<style scoped>\n",
       "    .dataframe tbody tr th:only-of-type {\n",
       "        vertical-align: middle;\n",
       "    }\n",
       "\n",
       "    .dataframe tbody tr th {\n",
       "        vertical-align: top;\n",
       "    }\n",
       "\n",
       "    .dataframe thead th {\n",
       "        text-align: right;\n",
       "    }\n",
       "</style>\n",
       "<table border=\"1\" class=\"dataframe\">\n",
       "  <thead>\n",
       "    <tr style=\"text-align: right;\">\n",
       "      <th></th>\n",
       "      <th>Email</th>\n",
       "      <th>Address</th>\n",
       "      <th>Avatar</th>\n",
       "      <th>Avg Session Length</th>\n",
       "      <th>Time on App</th>\n",
       "      <th>Time on Website</th>\n",
       "      <th>Length of Membership</th>\n",
       "      <th>Yearly Amount Spent</th>\n",
       "      <th>scr</th>\n",
       "    </tr>\n",
       "  </thead>\n",
       "  <tbody>\n",
       "    <tr>\n",
       "      <th>157</th>\n",
       "      <td>asilva@yahoo.com</td>\n",
       "      <td>USNV JohnsonFPO AP 19026</td>\n",
       "      <td>Wheat</td>\n",
       "      <td>34.603311</td>\n",
       "      <td>12.207298</td>\n",
       "      <td>33.913847</td>\n",
       "      <td>6.922689</td>\n",
       "      <td>744.221867</td>\n",
       "      <td>239.547973</td>\n",
       "    </tr>\n",
       "    <tr>\n",
       "      <th>396</th>\n",
       "      <td>waltonkaren@gmail.com</td>\n",
       "      <td>355 Villegas Isle Apt. 070West Jenniferview, N...</td>\n",
       "      <td>Green</td>\n",
       "      <td>35.742670</td>\n",
       "      <td>10.889828</td>\n",
       "      <td>35.565436</td>\n",
       "      <td>6.115199</td>\n",
       "      <td>669.987141</td>\n",
       "      <td>218.573537</td>\n",
       "    </tr>\n",
       "    <tr>\n",
       "      <th>151</th>\n",
       "      <td>alicia85@lee.com</td>\n",
       "      <td>14220 Carla Flat Suite 521Lake Matthew, DE 06183</td>\n",
       "      <td>DimGray</td>\n",
       "      <td>32.887105</td>\n",
       "      <td>12.387184</td>\n",
       "      <td>37.431159</td>\n",
       "      <td>6.401229</td>\n",
       "      <td>684.163431</td>\n",
       "      <td>210.517883</td>\n",
       "    </tr>\n",
       "    <tr>\n",
       "      <th>50</th>\n",
       "      <td>william82@gmail.com</td>\n",
       "      <td>11143 Park SquaresSamanthatown, UT 97073</td>\n",
       "      <td>SandyBrown</td>\n",
       "      <td>33.256335</td>\n",
       "      <td>13.858062</td>\n",
       "      <td>37.780265</td>\n",
       "      <td>5.976768</td>\n",
       "      <td>725.584814</td>\n",
       "      <td>198.765406</td>\n",
       "    </tr>\n",
       "    <tr>\n",
       "      <th>24</th>\n",
       "      <td>youngbarbara@yahoo.com</td>\n",
       "      <td>019 Elliott Tunnel Suite 190Nicholsbury, WV 60...</td>\n",
       "      <td>Wheat</td>\n",
       "      <td>34.507551</td>\n",
       "      <td>12.893670</td>\n",
       "      <td>37.635756</td>\n",
       "      <td>5.705154</td>\n",
       "      <td>700.917092</td>\n",
       "      <td>196.870892</td>\n",
       "    </tr>\n",
       "  </tbody>\n",
       "</table>\n",
       "</div>"
      ],
      "text/plain": [
       "                      Email  \\\n",
       "157        asilva@yahoo.com   \n",
       "396   waltonkaren@gmail.com   \n",
       "151        alicia85@lee.com   \n",
       "50      william82@gmail.com   \n",
       "24   youngbarbara@yahoo.com   \n",
       "\n",
       "                                               Address      Avatar  \\\n",
       "157                           USNV JohnsonFPO AP 19026       Wheat   \n",
       "396  355 Villegas Isle Apt. 070West Jenniferview, N...       Green   \n",
       "151   14220 Carla Flat Suite 521Lake Matthew, DE 06183     DimGray   \n",
       "50            11143 Park SquaresSamanthatown, UT 97073  SandyBrown   \n",
       "24   019 Elliott Tunnel Suite 190Nicholsbury, WV 60...       Wheat   \n",
       "\n",
       "     Avg Session Length  Time on App  Time on Website  Length of Membership  \\\n",
       "157           34.603311    12.207298        33.913847              6.922689   \n",
       "396           35.742670    10.889828        35.565436              6.115199   \n",
       "151           32.887105    12.387184        37.431159              6.401229   \n",
       "50            33.256335    13.858062        37.780265              5.976768   \n",
       "24            34.507551    12.893670        37.635756              5.705154   \n",
       "\n",
       "     Yearly Amount Spent         scr  \n",
       "157           744.221867  239.547973  \n",
       "396           669.987141  218.573537  \n",
       "151           684.163431  210.517883  \n",
       "50            725.584814  198.765406  \n",
       "24            700.917092  196.870892  "
      ]
     },
     "metadata": {},
     "output_type": "display_data"
    }
   ],
   "source": [
    "def best_score_finder(input_DataFrame):# Function for getting the costumers with the best scores\n",
    "    scr = input_df['Avg Session Length']*input_df['Length of Membership']# new score formula\n",
    "    input_df['scr']= scr # Assign the score to a new column called 'scr'\n",
    "    # sort the users based on score value and select the top 5 users with the highest score.\n",
    "    best_scores = input_df.sort_values('scr', ascending = False).head(5) \n",
    "    return best_scores\n",
    "\n",
    "# Displaying the results of function with input_df as input\n",
    "best_scores = best_score_finder(input_df) # input_df\n",
    "display(best_scores)"
   ]
  },
  {
   "cell_type": "code",
   "execution_count": 28,
   "metadata": {},
   "outputs": [
    {
     "data": {
      "text/html": [
       "<div>\n",
       "<style scoped>\n",
       "    .dataframe tbody tr th:only-of-type {\n",
       "        vertical-align: middle;\n",
       "    }\n",
       "\n",
       "    .dataframe tbody tr th {\n",
       "        vertical-align: top;\n",
       "    }\n",
       "\n",
       "    .dataframe thead th {\n",
       "        text-align: right;\n",
       "    }\n",
       "</style>\n",
       "<table border=\"1\" class=\"dataframe\">\n",
       "  <thead>\n",
       "    <tr style=\"text-align: right;\">\n",
       "      <th></th>\n",
       "      <th>Email</th>\n",
       "      <th>Address</th>\n",
       "      <th>Avatar</th>\n",
       "      <th>Avg Session Length</th>\n",
       "      <th>Time on App</th>\n",
       "      <th>Time on Website</th>\n",
       "      <th>Length of Membership</th>\n",
       "      <th>Yearly Amount Spent</th>\n",
       "      <th>scr</th>\n",
       "    </tr>\n",
       "  </thead>\n",
       "  <tbody>\n",
       "    <tr>\n",
       "      <th>65</th>\n",
       "      <td>kyang@diaz.org</td>\n",
       "      <td>223 Love Trail Suite 831Port Jeffrey, IN 46849</td>\n",
       "      <td>OliveDrab</td>\n",
       "      <td>34.374258</td>\n",
       "      <td>15.126994</td>\n",
       "      <td>37.157624</td>\n",
       "      <td>5.377594</td>\n",
       "      <td>765.518462</td>\n",
       "      <td>184.850790</td>\n",
       "    </tr>\n",
       "    <tr>\n",
       "      <th>157</th>\n",
       "      <td>asilva@yahoo.com</td>\n",
       "      <td>USNV JohnsonFPO AP 19026</td>\n",
       "      <td>Wheat</td>\n",
       "      <td>34.603311</td>\n",
       "      <td>12.207298</td>\n",
       "      <td>33.913847</td>\n",
       "      <td>6.922689</td>\n",
       "      <td>744.221867</td>\n",
       "      <td>239.547973</td>\n",
       "    </tr>\n",
       "    <tr>\n",
       "      <th>50</th>\n",
       "      <td>william82@gmail.com</td>\n",
       "      <td>11143 Park SquaresSamanthatown, UT 97073</td>\n",
       "      <td>SandyBrown</td>\n",
       "      <td>33.256335</td>\n",
       "      <td>13.858062</td>\n",
       "      <td>37.780265</td>\n",
       "      <td>5.976768</td>\n",
       "      <td>725.584814</td>\n",
       "      <td>198.765406</td>\n",
       "    </tr>\n",
       "    <tr>\n",
       "      <th>205</th>\n",
       "      <td>jeffrey54@mcdonald-williams.com</td>\n",
       "      <td>297 Francis ValleySouth Lindsey, NY 13669-5367</td>\n",
       "      <td>Gainsboro</td>\n",
       "      <td>34.967610</td>\n",
       "      <td>13.919494</td>\n",
       "      <td>37.952013</td>\n",
       "      <td>5.066697</td>\n",
       "      <td>712.396327</td>\n",
       "      <td>177.170279</td>\n",
       "    </tr>\n",
       "    <tr>\n",
       "      <th>368</th>\n",
       "      <td>rhonda01@gmail.com</td>\n",
       "      <td>939 Watson RunStaceyberg, VT 58376-0454</td>\n",
       "      <td>Orchid</td>\n",
       "      <td>34.385820</td>\n",
       "      <td>12.729720</td>\n",
       "      <td>36.232110</td>\n",
       "      <td>5.705941</td>\n",
       "      <td>708.935185</td>\n",
       "      <td>196.203452</td>\n",
       "    </tr>\n",
       "  </tbody>\n",
       "</table>\n",
       "</div>"
      ],
      "text/plain": [
       "                               Email  \\\n",
       "65                    kyang@diaz.org   \n",
       "157                 asilva@yahoo.com   \n",
       "50               william82@gmail.com   \n",
       "205  jeffrey54@mcdonald-williams.com   \n",
       "368               rhonda01@gmail.com   \n",
       "\n",
       "                                            Address      Avatar  \\\n",
       "65   223 Love Trail Suite 831Port Jeffrey, IN 46849   OliveDrab   \n",
       "157                        USNV JohnsonFPO AP 19026       Wheat   \n",
       "50         11143 Park SquaresSamanthatown, UT 97073  SandyBrown   \n",
       "205  297 Francis ValleySouth Lindsey, NY 13669-5367   Gainsboro   \n",
       "368         939 Watson RunStaceyberg, VT 58376-0454      Orchid   \n",
       "\n",
       "     Avg Session Length  Time on App  Time on Website  Length of Membership  \\\n",
       "65            34.374258    15.126994        37.157624              5.377594   \n",
       "157           34.603311    12.207298        33.913847              6.922689   \n",
       "50            33.256335    13.858062        37.780265              5.976768   \n",
       "205           34.967610    13.919494        37.952013              5.066697   \n",
       "368           34.385820    12.729720        36.232110              5.705941   \n",
       "\n",
       "     Yearly Amount Spent         scr  \n",
       "65            765.518462  184.850790  \n",
       "157           744.221867  239.547973  \n",
       "50            725.584814  198.765406  \n",
       "205           712.396327  177.170279  \n",
       "368           708.935185  196.203452  "
      ]
     },
     "metadata": {},
     "output_type": "display_data"
    }
   ],
   "source": [
    "# Sort input_df using the values in the column \"Yearly Amount Spent\". Return the top 5 rows. \n",
    "# Store the results of the function in a variable called “best_yearly_spent”.\n",
    "\n",
    "def best_yearly_spent_finder():\n",
    "    best_yearly_spent = input_df.sort_values('Yearly Amount Spent', ascending = False).head(5)\n",
    "    return  best_yearly_spent # Return value is of type \"panda dataframe\" with 5 rows\n",
    "\n",
    "best_yearly_spent = best_yearly_spent_finder() # input_df \n",
    "display(best_yearly_spent)"
   ]
  },
  {
   "cell_type": "markdown",
   "metadata": {},
   "source": [
    "#### Finding Common Elements"
   ]
  },
  {
   "cell_type": "code",
   "execution_count": 29,
   "metadata": {},
   "outputs": [
    {
     "data": {
      "text/plain": [
       "0       asilva@yahoo.com\n",
       "1    william82@gmail.com\n",
       "Name: Email, dtype: object"
      ]
     },
     "execution_count": 29,
     "metadata": {},
     "output_type": "execute_result"
    }
   ],
   "source": [
    "# Find the intersection of the two dataframes. We want to find the email addresses \n",
    "# of the users that exist in both dataframes.\n",
    "\n",
    "def comparisor(a,b):\n",
    "    comparisor = pd.merge(best_scores, best_yearly_spent, on = 'Email', how = 'inner')['Email']\n",
    "\n",
    "    return comparisor  # a dataframe that contains the rows that exist in both dataframes a,b\n",
    "\n",
    "comparisor(best_scores, best_yearly_spent)"
   ]
  },
  {
   "cell_type": "markdown",
   "metadata": {},
   "source": [
    "# Task 4. Regression"
   ]
  },
  {
   "cell_type": "code",
   "execution_count": 30,
   "metadata": {},
   "outputs": [
    {
     "data": {
      "text/plain": [
       "[     Avg Session Length  Time on App  Time on Website  Length of Membership  \\\n",
       " 0             34.497268    12.655651        39.577668              4.082621   \n",
       " 1             31.926272    11.109461        37.268959              2.664034   \n",
       " 2             33.000915    11.330278        37.110597              4.104543   \n",
       " 3             34.305557    13.717514        36.721283              3.120179   \n",
       " 4             33.330673    12.795189        37.536653              4.446308   \n",
       " 5             33.871038    12.026925        34.476878              5.493507   \n",
       " 6             32.021596    11.366348        36.683776              4.685017   \n",
       " 7             32.739143    12.351959        37.373359              4.434273   \n",
       " 8             33.987773    13.386235        37.534497              3.273434   \n",
       " 9             31.936549    11.814128        37.145168              3.202806   \n",
       " 10            33.992573    13.338975        37.225806              2.482608   \n",
       " 11            33.879361    11.584783        37.087926              3.713209   \n",
       " 12            29.532429    10.961298        37.420216              4.046423   \n",
       " 13            33.190334    12.959226        36.144667              3.918542   \n",
       " 14            32.387976    13.148726        36.619957              2.494544   \n",
       " 15            30.737720    12.636606        36.213763              3.357847   \n",
       " 16            32.125387    11.733862        34.894093              3.136133   \n",
       " 17            32.338899    12.013195        38.385137              2.420806   \n",
       " 18            32.187812    14.715388        38.244115              1.516576   \n",
       " 19            32.617856    13.989593        37.190504              4.064549   \n",
       " 20            32.912785    11.365492        37.607793              4.599937   \n",
       " 21            33.503087    12.877984        37.441021              1.559152   \n",
       " 22            31.531604    13.378563        38.734006              2.245148   \n",
       " 23            32.903251    11.657576        36.772604              3.919302   \n",
       " 24            34.507551    12.893670        37.635756              5.705154   \n",
       " 25            33.029332    11.765813        37.738525              2.721736   \n",
       " 26            33.541231    12.783892        36.430650              4.648199   \n",
       " 27            32.335990    13.007819        37.851779              2.996365   \n",
       " 28            33.110205    11.982045        35.293088              3.923489   \n",
       " 29            33.105438    11.965020        37.277812              4.742578   \n",
       " ..                  ...          ...              ...                   ...   \n",
       " 470           32.518197    11.509253        36.599289              3.022676   \n",
       " 471           34.523020    11.405770        36.378271              4.041245   \n",
       " 472           33.665990    12.263718        38.860234              3.139527   \n",
       " 473           31.609840    12.710701        36.166463              2.562819   \n",
       " 474           33.700886    13.471578        37.071643              2.379076   \n",
       " 475           33.811733    11.186809        36.298893              4.301996   \n",
       " 476           34.336677    11.246813        38.682584              2.094762   \n",
       " 477           31.061325    12.357638        36.166042              4.089331   \n",
       " 478           33.069768    11.764326        36.875026              3.516051   \n",
       " 479           34.606242    11.761884        38.126520              1.820811   \n",
       " 480           34.238242    11.550300        35.769330              4.183144   \n",
       " 481           32.047815    12.482670        35.536025              3.393903   \n",
       " 482           30.971676    11.731364        36.074551              4.426364   \n",
       " 483           33.606851    12.214074        37.198428              2.905238   \n",
       " 484           33.448125    11.903757        36.874544              2.782758   \n",
       " 485           33.369381    12.222484        36.355235              3.447018   \n",
       " 486           33.452295    12.005916        36.534096              4.712234   \n",
       " 487           32.904692    11.913745        36.058648              1.228112   \n",
       " 488           35.630854    12.125402        38.187764              4.019051   \n",
       " 489           32.246350    11.305551        37.133127              1.707390   \n",
       " 490           34.695591    11.608997        37.684877              3.163092   \n",
       " 491           34.343922    11.693058        36.812934              3.447093   \n",
       " 492           33.680937    11.201570        37.835448              2.208814   \n",
       " 493           32.060914    12.625433        35.539142              5.412358   \n",
       " 494           33.431097    13.350632        37.965972              2.768852   \n",
       " 495           33.237660    13.566160        36.417985              3.746573   \n",
       " 496           34.702529    11.695736        37.190268              3.576526   \n",
       " 497           32.646777    11.499409        38.332576              4.958264   \n",
       " 498           33.322501    12.391423        36.840086              2.336485   \n",
       " 499           33.715981    12.418808        35.771016              2.735160   \n",
       " \n",
       "      Yearly Amount Spent         scr  \n",
       " 0             587.951054  140.839257  \n",
       " 1             392.204933   85.052680  \n",
       " 2             487.547505  135.453680  \n",
       " 3             581.852344  107.039470  \n",
       " 4             599.406092  148.198446  \n",
       " 5             637.102448  186.070791  \n",
       " 6             521.572175  150.021727  \n",
       " 7             549.904146  145.174312  \n",
       " 8             570.200409  111.256717  \n",
       " 9             427.199385  102.286572  \n",
       " 10            492.606013   84.390225  \n",
       " 11            522.337405  125.801154  \n",
       " 12            408.640351  119.500705  \n",
       " 13            573.415867  130.057713  \n",
       " 14            470.452733   80.793219  \n",
       " 15            461.780742  103.212557  \n",
       " 16            457.847696  100.749477  \n",
       " 17            407.704548   78.286207  \n",
       " 18            452.315675   48.815250  \n",
       " 19            605.061039  132.576860  \n",
       " 20            534.705744  151.396750  \n",
       " 21            419.938775   52.236403  \n",
       " 22            436.515606   70.793112  \n",
       " 23            519.340989  128.957787  \n",
       " 24            700.917092  196.870892  \n",
       " 25            423.179992   89.897122  \n",
       " 26            619.895640  155.906328  \n",
       " 27            486.838935   96.890412  \n",
       " 28            529.537665  129.907517  \n",
       " 29            554.722084  157.005106  \n",
       " ..                   ...         ...  \n",
       " 470           424.728774   98.291965  \n",
       " 471           541.049831  139.515979  \n",
       " 472           469.383146  105.695283  \n",
       " 473           444.545550   81.010291  \n",
       " 474           492.556834   80.176985  \n",
       " 475           535.321610  145.457959  \n",
       " 476           408.958336   71.927155  \n",
       " 477           487.555458  127.020035  \n",
       " 478           487.646232  116.274992  \n",
       " 479           402.167122   63.011414  \n",
       " 480           551.023002  143.223485  \n",
       " 481           497.389558  108.767167  \n",
       " 482           494.638610  137.091913  \n",
       " 483           479.247417   97.635912  \n",
       " 484           462.656519   93.078032  \n",
       " 485           515.502480  115.024850  \n",
       " 486           576.477607  157.635029  \n",
       " 487           357.857984   40.410662  \n",
       " 488           597.739879  143.202234  \n",
       " 489           327.377953   55.057087  \n",
       " 490           510.401388  109.745345  \n",
       " 491           510.501478  118.386689  \n",
       " 492           403.819520   74.394914  \n",
       " 493           627.603319  173.525141  \n",
       " 494           510.661792   92.565758  \n",
       " 495           573.847438  124.527319  \n",
       " 496           529.049004  124.114494  \n",
       " 497           551.620145  161.871353  \n",
       " 498           456.469510   77.857513  \n",
       " 499           497.778642   92.218588  \n",
       " \n",
       " [500 rows x 6 columns]]"
      ]
     },
     "metadata": {},
     "output_type": "display_data"
    }
   ],
   "source": [
    "# Select the numerical features and formed a new dataframe \"num_df\". In the cell below, try\n",
    "# to form this dataframe.\n",
    "\n",
    "# TODO: Selecting the numerical columns of \"input_df\"\n",
    "\n",
    "num_df = input_df.select_dtypes(include = ['float64', 'int'])\n",
    "num_df = [num_df]\n",
    "# Print the result\n",
    "display(num_df)"
   ]
  },
  {
   "cell_type": "code",
   "execution_count": 49,
   "metadata": {},
   "outputs": [
    {
     "name": "stdout",
     "output_type": "stream",
     "text": [
      "The mean square error of the model on the test set is: 96.77105769741411\n"
     ]
    }
   ],
   "source": [
    "# Develop a linear regression model and return the mean squared error on the test set \n",
    "\n",
    "from sklearn.linear_model import LinearRegression\n",
    "from sklearn import metrics\n",
    "from sklearn.metrics import mean_squared_error\n",
    "\n",
    "def predict_model(train_set, test_set):\n",
    "     \n",
    "    train_set = pd.read_csv('train.csv')\n",
    "    test_set = pd.read_csv('test.csv')\n",
    "    \n",
    "    y_train = train_set['Yearly Amount Spent']\n",
    "    y_test = test_set['Yearly Amount Spent']\n",
    "    \n",
    "    x_train = train_set[['Avg Session Length', 'Time on App', 'Time on Website', 'Length of Membership']]\n",
    "    x_test = test_set[['Avg Session Length', 'Time on App', 'Time on Website', 'Length of Membership']]\n",
    "    \n",
    "    linreg = LinearRegression()\n",
    "    linreg.fit(x_train,y_train)\n",
    "    \n",
    "    l_model = linreg.predict(x_test)\n",
    "    \n",
    "    res = mean_squared_error(y_test, l_model)\n",
    "    \n",
    "    return res\n",
    "\n",
    "err = predict_model(train_set, test_set)\n",
    "\n",
    "print(\"The mean square error of the model on the test set is: {}\".format(err))"
   ]
  },
  {
   "cell_type": "code",
   "execution_count": null,
   "metadata": {},
   "outputs": [],
   "source": []
  }
 ],
 "metadata": {
  "kernelspec": {
   "display_name": "Python 3",
   "language": "python",
   "name": "python3"
  }
 },
 "nbformat": 4,
 "nbformat_minor": 2
}
